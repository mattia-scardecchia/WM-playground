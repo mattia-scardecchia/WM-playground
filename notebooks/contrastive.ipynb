{
    "cells": [
        {
            "cell_type": "code",
            "execution_count": 1,
            "id": "bdfe297d",
            "metadata": {},
            "outputs": [],
            "source": [
                "import sys\n",
                "import yaml\n",
                "import numpy as np\n",
                "from pathlib import Path\n",
                "import hydra\n",
                "from hydra import compose, initialize_config_dir\n",
                "from omegaconf import DictConfig\n",
                "import os\n",
                "\n",
                "sys.path.append('../')"
            ]
        },
        {
            "cell_type": "code",
            "execution_count": null,
            "id": "eb197b3b",
            "metadata": {},
            "outputs": [
                {
                    "data": {
                        "text/plain": [
                            "{'data': {'signal_dim': 2,\n",
                            "  'noise_dim': 100,\n",
                            "  'num_actions': 4,\n",
                            "  'traj_len': 200,\n",
                            "  'step_size': 0.1,\n",
                            "  'n_train': 300,\n",
                            "  'n_val': 30,\n",
                            "  'n_test': 30,\n",
                            "  'seed': 0,\n",
                            "  'out_dir': 'data/'},\n",
                            " 'model': {'z_dim_vae': 2,\n",
                            "  'z_dim_contrastive': 2,\n",
                            "  'enc_widths': [256, 256],\n",
                            "  'dec_widths': [256, 256],\n",
                            "  'proj_widths': [256, 256],\n",
                            "  'dyn_widths': [256, 256],\n",
                            "  'probe_widths': [64, 64],\n",
                            "  'activation': 'relu'},\n",
                            " 'train': {'batch_size': 256,\n",
                            "  'steps_phase1': 10,\n",
                            "  'steps_phase2': 10,\n",
                            "  'steps_probe': 10,\n",
                            "  'num_workers': 0,\n",
                            "  'ckpt_dir': 'ckpts/',\n",
                            "  'eval_batch_size': 512,\n",
                            "  'wandb_log_freq': 200,\n",
                            "  'device': 'mps',\n",
                            "  'vae': {'lr': 0.002, 'weight_decay': 0.0, 'beta': 0.001},\n",
                            "  'contrastive': {'lr': 0.001, 'weight_decay': 0.0, 'temperature': 0.1},\n",
                            "  'dynamics': {'lr': 0.001, 'weight_decay': 0.0},\n",
                            "  'probe': {'lr': 0.001, 'weight_decay': 0.0}},\n",
                            " 'wandb': {'enabled': True,\n",
                            "  'project': 'repr-world',\n",
                            "  'entity': 'mattia-scardecchia',\n",
                            "  'group': None,\n",
                            "  'mode': 'online',\n",
                            "  'dir': 'logs',\n",
                            "  'tags': ['toy', 'repr']}}"
                        ]
                    },
                    "execution_count": 2,
                    "metadata": {},
                    "output_type": "execute_result"
                }
            ],
            "source": [
                "from omegaconf import OmegaConf\n",
                "\n",
                "\n",
                "config_dir = os.path.abspath('../conf')\n",
                "with initialize_config_dir(config_dir=config_dir, version_base=None):\n",
                "    cfg = compose(config_name=\"config\")\n",
                "\n",
                "cfg"
            ]
        },
        {
            "cell_type": "code",
            "execution_count": 3,
            "id": "00bfd513",
            "metadata": {},
            "outputs": [
                {
                    "name": "stdout",
                    "output_type": "stream",
                    "text": [
                        "Wrote data/train.npz with shapes s(60000, 102), a(60000,), sp(60000, 102)\n",
                        "Wrote data/val.npz with shapes s(6000, 102), a(6000,), sp(6000, 102)\n",
                        "Wrote data/test.npz with shapes s(6000, 102), a(6000,), sp(6000, 102)\n"
                    ]
                }
            ],
            "source": [
                "from scripts.generate_data import main as gen_main\n",
                "gen_main(cfg)"
            ]
        },
        {
            "cell_type": "markdown",
            "id": "0fadcf4c",
            "metadata": {},
            "source": [
                "## Train Phase 1 (choose one)"
            ]
        },
        {
            "cell_type": "code",
            "execution_count": 7,
            "id": "28662ec1",
            "metadata": {},
            "outputs": [
                {
                    "name": "stderr",
                    "output_type": "stream",
                    "text": [
                        "\u001b[34m\u001b[1mwandb\u001b[0m: Currently logged in as: \u001b[33mmattia-scardecchia\u001b[0m to \u001b[32mhttps://api.wandb.ai\u001b[0m. Use \u001b[1m`wandb login --relogin`\u001b[0m to force relogin\n"
                    ]
                },
                {
                    "data": {
                        "text/html": [],
                        "text/plain": [
                            "<IPython.core.display.HTML object>"
                        ]
                    },
                    "metadata": {},
                    "output_type": "display_data"
                },
                {
                    "data": {
                        "text/html": [
                            "Tracking run with wandb version 0.22.0"
                        ],
                        "text/plain": [
                            "<IPython.core.display.HTML object>"
                        ]
                    },
                    "metadata": {},
                    "output_type": "display_data"
                },
                {
                    "data": {
                        "text/html": [
                            "Run data is saved locally in <code>logs/wandb/run-20250924_000443-44xzl2ig</code>"
                        ],
                        "text/plain": [
                            "<IPython.core.display.HTML object>"
                        ]
                    },
                    "metadata": {},
                    "output_type": "display_data"
                },
                {
                    "data": {
                        "text/html": [
                            "Syncing run <strong><a href='https://wandb.ai/mattia-scardecchia/repr-world/runs/44xzl2ig' target=\"_blank\">flowing-valley-28</a></strong> to <a href='https://wandb.ai/mattia-scardecchia/repr-world' target=\"_blank\">Weights & Biases</a> (<a href='https://wandb.me/developer-guide' target=\"_blank\">docs</a>)<br>"
                        ],
                        "text/plain": [
                            "<IPython.core.display.HTML object>"
                        ]
                    },
                    "metadata": {},
                    "output_type": "display_data"
                },
                {
                    "data": {
                        "text/html": [
                            " View project at <a href='https://wandb.ai/mattia-scardecchia/repr-world' target=\"_blank\">https://wandb.ai/mattia-scardecchia/repr-world</a>"
                        ],
                        "text/plain": [
                            "<IPython.core.display.HTML object>"
                        ]
                    },
                    "metadata": {},
                    "output_type": "display_data"
                },
                {
                    "data": {
                        "text/html": [
                            " View run at <a href='https://wandb.ai/mattia-scardecchia/repr-world/runs/44xzl2ig' target=\"_blank\">https://wandb.ai/mattia-scardecchia/repr-world/runs/44xzl2ig</a>"
                        ],
                        "text/plain": [
                            "<IPython.core.display.HTML object>"
                        ]
                    },
                    "metadata": {},
                    "output_type": "display_data"
                },
                {
                    "name": "stderr",
                    "output_type": "stream",
                    "text": [
                        "/Users/mat/anaconda3/envs/toy/lib/python3.12/site-packages/torch/utils/data/dataloader.py:684: UserWarning: 'pin_memory' argument is set as true but not supported on MPS now, then device pinned memory won't be used.\n",
                        "  warnings.warn(warn_msg)\n"
                    ]
                },
                {
                    "name": "stdout",
                    "output_type": "stream",
                    "text": [
                        "[CONTRASTIVE] Epoch 1: train_loss=2.5239\n",
                        "[CONTRASTIVE-VAL] Epoch 1: val_loss=2.2710\n",
                        "[CONTRASTIVE] Epoch 2: train_loss=0.8999\n",
                        "[CONTRASTIVE-VAL] Epoch 2: val_loss=1.9363\n",
                        "[CONTRASTIVE] Epoch 3: train_loss=0.5999\n",
                        "[CONTRASTIVE-VAL] Epoch 3: val_loss=1.7528\n",
                        "[CONTRASTIVE] Epoch 4: train_loss=0.5161\n",
                        "[CONTRASTIVE-VAL] Epoch 4: val_loss=1.7313\n",
                        "[CONTRASTIVE] Epoch 5: train_loss=0.4489\n",
                        "[CONTRASTIVE-VAL] Epoch 5: val_loss=1.7587\n",
                        "[CONTRASTIVE] Epoch 6: train_loss=0.4258\n",
                        "[CONTRASTIVE-VAL] Epoch 6: val_loss=1.7538\n",
                        "[CONTRASTIVE] Epoch 7: train_loss=0.3717\n",
                        "[CONTRASTIVE-VAL] Epoch 7: val_loss=1.9741\n",
                        "[CONTRASTIVE] Epoch 8: train_loss=0.3644\n",
                        "[CONTRASTIVE-VAL] Epoch 8: val_loss=1.4004\n",
                        "[CONTRASTIVE] Epoch 9: train_loss=0.3410\n",
                        "[CONTRASTIVE-VAL] Epoch 9: val_loss=1.6027\n",
                        "[CONTRASTIVE] Epoch 10: train_loss=0.3987\n",
                        "[CONTRASTIVE-VAL] Epoch 10: val_loss=1.0876\n",
                        "Saved ckpts/contrastive_phi.pt\n",
                        "Saved ckpts/contrastive_g.pt\n"
                    ]
                },
                {
                    "name": "stderr",
                    "output_type": "stream",
                    "text": [
                        "\u001b[34m\u001b[1mwandb\u001b[0m: \u001b[33mWARNING\u001b[0m Fatal error while uploading data. Some run data will not be synced, but it will still be written to disk. Use `wandb sync` at the end of the run to try uploading.\n"
                    ]
                }
            ],
            "source": [
                "from scripts.train import train_phase1_contrastive, _maybe_init_wandb\n",
                "\n",
                "device = 'mps'\n",
                "z_space = 'contrastive'\n",
                "wb = _maybe_init_wandb(cfg)\n",
                "\n",
                "phi_path, g_path, contrastive_metrics = train_phase1_contrastive(cfg, device, wb)"
            ]
        },
        {
            "cell_type": "markdown",
            "id": "6c403a9b",
            "metadata": {},
            "source": [
                "## Train Phase 2 dynamics (on selected latent space)"
            ]
        },
        {
            "cell_type": "code",
            "execution_count": 8,
            "id": "0961f64f",
            "metadata": {},
            "outputs": [
                {
                    "name": "stdout",
                    "output_type": "stream",
                    "text": [
                        "[DYN-CONTRASTIVE] Epoch 1: train_mse=0.9865\n",
                        "[DYN-CONTRASTIVE-VAL] Epoch 1: val_mse=0.0389\n",
                        "[DYN-CONTRASTIVE] Epoch 2: train_mse=0.0360\n",
                        "[DYN-CONTRASTIVE-VAL] Epoch 2: val_mse=0.0376\n",
                        "[DYN-CONTRASTIVE] Epoch 3: train_mse=0.0353\n",
                        "[DYN-CONTRASTIVE-VAL] Epoch 3: val_mse=0.0373\n",
                        "[DYN-CONTRASTIVE] Epoch 4: train_mse=0.0356\n",
                        "[DYN-CONTRASTIVE-VAL] Epoch 4: val_mse=0.0387\n",
                        "[DYN-CONTRASTIVE] Epoch 5: train_mse=0.0358\n",
                        "[DYN-CONTRASTIVE-VAL] Epoch 5: val_mse=0.0388\n",
                        "[DYN-CONTRASTIVE] Epoch 6: train_mse=0.0358\n",
                        "[DYN-CONTRASTIVE-VAL] Epoch 6: val_mse=0.0413\n",
                        "[DYN-CONTRASTIVE] Epoch 7: train_mse=0.0364\n",
                        "[DYN-CONTRASTIVE-VAL] Epoch 7: val_mse=0.0394\n",
                        "[DYN-CONTRASTIVE] Epoch 8: train_mse=0.0360\n",
                        "[DYN-CONTRASTIVE-VAL] Epoch 8: val_mse=0.0382\n",
                        "[DYN-CONTRASTIVE] Epoch 9: train_mse=0.0362\n",
                        "[DYN-CONTRASTIVE-VAL] Epoch 9: val_mse=0.0404\n",
                        "[DYN-CONTRASTIVE] Epoch 10: train_mse=0.0367\n",
                        "[DYN-CONTRASTIVE-VAL] Epoch 10: val_mse=0.0411\n",
                        "Saved ckpts/dyn_contrastive.pt\n"
                    ]
                }
            ],
            "source": [
                "from scripts.train import train_phase2_dynamics\n",
                "\n",
                "dyn_path, dynamics_metrics = train_phase2_dynamics(cfg, device, z_space=z_space, wb=wb)"
            ]
        },
        {
            "cell_type": "markdown",
            "id": "f022ec73",
            "metadata": {},
            "source": [
                "## Train probe on frozen latents (z → R^2)"
            ]
        },
        {
            "cell_type": "code",
            "execution_count": 9,
            "id": "c58e572a",
            "metadata": {},
            "outputs": [
                {
                    "name": "stdout",
                    "output_type": "stream",
                    "text": [
                        "[PROBE-CONTRASTIVE] Epoch 1: train_mse=0.0501\n",
                        "[PROBE-CONTRASTIVE-VAL] Epoch 1: val_mse=0.0023\n",
                        "[PROBE-CONTRASTIVE] Epoch 2: train_mse=0.0015\n",
                        "[PROBE-CONTRASTIVE-VAL] Epoch 2: val_mse=0.0013\n",
                        "[PROBE-CONTRASTIVE] Epoch 3: train_mse=0.0011\n",
                        "[PROBE-CONTRASTIVE-VAL] Epoch 3: val_mse=0.0011\n",
                        "[PROBE-CONTRASTIVE] Epoch 4: train_mse=0.0010\n",
                        "[PROBE-CONTRASTIVE-VAL] Epoch 4: val_mse=0.0010\n",
                        "[PROBE-CONTRASTIVE] Epoch 5: train_mse=0.0009\n",
                        "[PROBE-CONTRASTIVE-VAL] Epoch 5: val_mse=0.0010\n",
                        "[PROBE-CONTRASTIVE] Epoch 6: train_mse=0.0009\n",
                        "[PROBE-CONTRASTIVE-VAL] Epoch 6: val_mse=0.0009\n",
                        "[PROBE-CONTRASTIVE] Epoch 7: train_mse=0.0009\n",
                        "[PROBE-CONTRASTIVE-VAL] Epoch 7: val_mse=0.0009\n",
                        "[PROBE-CONTRASTIVE] Epoch 8: train_mse=0.0008\n",
                        "[PROBE-CONTRASTIVE-VAL] Epoch 8: val_mse=0.0009\n",
                        "[PROBE-CONTRASTIVE] Epoch 9: train_mse=0.0008\n",
                        "[PROBE-CONTRASTIVE-VAL] Epoch 9: val_mse=0.0008\n",
                        "[PROBE-CONTRASTIVE] Epoch 10: train_mse=0.0008\n",
                        "[PROBE-CONTRASTIVE-VAL] Epoch 10: val_mse=0.0009\n",
                        "Saved ckpts/probe_contrastive.pt\n"
                    ]
                }
            ],
            "source": [
                "from scripts.train import train_probes\n",
                "probe_path, probe_metrics = train_probes(cfg, device, z_space=z_space, wb=wb)"
            ]
        },
        {
            "cell_type": "markdown",
            "id": "31fb72c6",
            "metadata": {},
            "source": [
                "## Evaluate end-to-end next-signal MSE"
            ]
        },
        {
            "cell_type": "code",
            "execution_count": 10,
            "id": "b9d0566c",
            "metadata": {},
            "outputs": [
                {
                    "name": "stdout",
                    "output_type": "stream",
                    "text": [
                        "[EVAL-contrastive] next-signal MSE = 0.001361\n"
                    ]
                },
                {
                    "data": {
                        "text/plain": [
                            "{'final_eval_loss': 0.0013614735392232737}"
                        ]
                    },
                    "execution_count": 10,
                    "metadata": {},
                    "output_type": "execute_result"
                }
            ],
            "source": [
                "from scripts.eval import evaluate\n",
                "evaluate(cfg, z_space, device)"
            ]
        }
    ],
    "metadata": {
        "kernelspec": {
            "display_name": "toy",
            "language": "python",
            "name": "python3"
        },
        "language_info": {
            "codemirror_mode": {
                "name": "ipython",
                "version": 3
            },
            "file_extension": ".py",
            "mimetype": "text/x-python",
            "name": "python",
            "nbconvert_exporter": "python",
            "pygments_lexer": "ipython3",
            "version": "3.12.11"
        }
    },
    "nbformat": 4,
    "nbformat_minor": 5
}