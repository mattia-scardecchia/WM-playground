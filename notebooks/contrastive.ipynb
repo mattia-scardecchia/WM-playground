{
 "cells": [
  {
   "cell_type": "code",
   "execution_count": 1,
   "id": "31131780",
   "metadata": {},
   "outputs": [],
   "source": [
    "import sys\n",
    "import yaml\n",
    "import numpy as np\n",
    "import torch\n",
    "from pathlib import Path\n",
    "\n",
    "sys.path.append(\"../\")"
   ]
  },
  {
   "cell_type": "code",
   "execution_count": 2,
   "id": "f6a519f9",
   "metadata": {},
   "outputs": [
    {
     "data": {
      "text/plain": [
       "{'data': {'D': 102,\n",
       "  'signal_dim': 2,\n",
       "  'noise_dim': 100,\n",
       "  'traj_len': 200,\n",
       "  'step_size': 0.1,\n",
       "  'n_train': 300,\n",
       "  'n_val': 30,\n",
       "  'n_test': 30,\n",
       "  'seed': 0,\n",
       "  'out_dir': 'data/'},\n",
       " 'model': {'z_dim_vae': 2,\n",
       "  'z_dim_contrastive': 2,\n",
       "  'enc_widths': [256, 256],\n",
       "  'dec_widths': [256, 256],\n",
       "  'proj_widths': [256, 256],\n",
       "  'dyn_widths': [256, 256],\n",
       "  'probe_widths': [64, 64],\n",
       "  'activation': 'relu'},\n",
       " 'train': {'batch_size': 256,\n",
       "  'epochs_phase1': 20,\n",
       "  'epochs_phase2': 20,\n",
       "  'epochs_probe': 20,\n",
       "  'num_workers': 0,\n",
       "  'ckpt_dir': 'ckpts/',\n",
       "  'vae': {'lr': 0.002, 'weight_decay': 0.0, 'beta': 0.001},\n",
       "  'contrastive': {'lr': 0.001, 'weight_decay': 0.0, 'temperature': 0.1},\n",
       "  'dynamics': {'lr': 0.001, 'weight_decay': 0.0},\n",
       "  'probe': {'lr': 0.001, 'weight_decay': 0.0}},\n",
       " 'wandb': {'enabled': False,\n",
       "  'project': 'repr-world',\n",
       "  'entity': None,\n",
       "  'group': None,\n",
       "  'mode': 'online',\n",
       "  'dir': 'logs',\n",
       "  'tags': ['toy', 'repr']}}"
      ]
     },
     "execution_count": 2,
     "metadata": {},
     "output_type": "execute_result"
    }
   ],
   "source": [
    "with open('../config.yaml', 'r') as f:\n",
    "    cfg = yaml.safe_load(f)\n",
    "cfg\n"
   ]
  },
  {
   "cell_type": "code",
   "execution_count": 3,
   "id": "00bfd513",
   "metadata": {},
   "outputs": [
    {
     "name": "stdout",
     "output_type": "stream",
     "text": [
      "Wrote data/train.npz with shapes s(60000, 102), a(60000,), sp(60000, 102)\n",
      "Wrote data/val.npz with shapes s(6000, 102), a(6000,), sp(6000, 102)\n",
      "Wrote data/test.npz with shapes s(6000, 102), a(6000,), sp(6000, 102)\n"
     ]
    }
   ],
   "source": [
    "from scripts.generate_data import main as gen_main\n",
    "gen_main(cfg)"
   ]
  },
  {
   "cell_type": "markdown",
   "id": "c63fbb3f",
   "metadata": {},
   "source": [
    "## Quick data exploration"
   ]
  },
  {
   "cell_type": "code",
   "execution_count": 4,
   "id": "190b54c4",
   "metadata": {},
   "outputs": [
    {
     "name": "stdout",
     "output_type": "stream",
     "text": [
      "train shapes: (60000, 102) (60000,) (60000, 102)\n",
      "state mean/std: -0.000257664 1.0058259\n",
      "signal mean/std: -0.028032197 1.2757925\n",
      "noise mean/std: 0.0002978269 0.9996753\n",
      "actions min/max/unique: 0 3 (array([0, 1, 2, 3]), array([15118, 14927, 14967, 14988]))\n"
     ]
    }
   ],
   "source": [
    "import numpy as np\n",
    "import matplotlib.pyplot as plt\n",
    "from pathlib import Path\n",
    "\n",
    "data_dir = Path(cfg['data']['out_dir'])\n",
    "train = np.load(data_dir / 'train.npz')\n",
    "val = np.load(data_dir / 'val.npz')\n",
    "test = np.load(data_dir / 'test.npz')\n",
    "\n",
    "s, a, sp = train['s'], train['a'], train['sp']\n",
    "print(\"train shapes:\", s.shape, a.shape, sp.shape)\n",
    "\n",
    "print(\"state mean/std:\", s.mean(), s.std())\n",
    "print(\"signal mean/std:\", s[:,0:2].mean(), s[:,0:2].std())\n",
    "print(\"noise mean/std:\", s[:,2:].mean(), s[:,2:].std())\n",
    "print(\"actions min/max/unique:\", a.min(), a.max(), np.unique(a, return_counts=True))\n",
    "\n",
    "N = min(10000, s.shape[0])\n",
    "idx = np.random.choice(s.shape[0], N, replace=False)\n",
    "\n",
    "# plt.figure()\n",
    "# plt.scatter(s[idx,0], s[idx,1], s=2, alpha=0.3)\n",
    "# plt.title(\"Signal component scatter (N random points)\")\n",
    "# plt.xlabel(\"x\")\n",
    "# plt.ylabel(\"y\")\n",
    "# plt.show()\n",
    "\n",
    "# plt.figure()\n",
    "# plt.hist(s[idx,0], bins=50, alpha=0.5, label='signal-x')\n",
    "# plt.hist(s[idx,1], bins=50, alpha=0.5, label='signal-y')\n",
    "# plt.title(\"Signal dims hist (x,y) [random sample]\")\n",
    "# plt.xlabel(\"value\")\n",
    "# plt.ylabel(\"freq\")\n",
    "# plt.legend()\n",
    "# plt.show()\n",
    "\n",
    "# plt.figure()\n",
    "# plt.hist(s[idx,2], bins=50)\n",
    "# plt.title(\"One noise dim hist (s[:,2]) [random sample]\")\n",
    "# plt.xlabel(\"value\")\n",
    "# plt.ylabel(\"freq\")\n",
    "# plt.show()"
   ]
  },
  {
   "cell_type": "code",
   "execution_count": 5,
   "id": "549d1323",
   "metadata": {},
   "outputs": [
    {
     "data": {
      "text/plain": [
       "np.float32(1.6275393)"
      ]
     },
     "execution_count": 5,
     "metadata": {},
     "output_type": "execute_result"
    }
   ],
   "source": [
    "# The signal has a quasi-gaussian histogram. The best non-parametric guess for reconstruction is the mean.\n",
    "# MSE of that guess is the variance.\n",
    "\n",
    "((s[:, :2] - s[:, :2].mean(axis=0))**2).mean()"
   ]
  },
  {
   "cell_type": "code",
   "execution_count": 6,
   "id": "6eab3616",
   "metadata": {},
   "outputs": [
    {
     "data": {
      "text/plain": [
       "np.float32(1.0116515)"
      ]
     },
     "execution_count": 6,
     "metadata": {},
     "output_type": "execute_result"
    }
   ],
   "source": [
    "# Same applies to the noise dimensions.\n",
    "# Global MSE:\n",
    "\n",
    "((s[:, :] - s[:, :].mean(axis=0))**2).mean()"
   ]
  },
  {
   "cell_type": "markdown",
   "id": "0fadcf4c",
   "metadata": {},
   "source": [
    "## Train Phase 1 (choose one)"
   ]
  },
  {
   "cell_type": "code",
   "execution_count": 7,
   "id": "28662ec1",
   "metadata": {},
   "outputs": [
    {
     "name": "stderr",
     "output_type": "stream",
     "text": [
      "/Users/mat/anaconda3/envs/toy/lib/python3.12/site-packages/torch/utils/data/dataloader.py:684: UserWarning: 'pin_memory' argument is set as true but not supported on MPS now, then device pinned memory won't be used.\n",
      "  warnings.warn(warn_msg)\n"
     ]
    },
    {
     "name": "stdout",
     "output_type": "stream",
     "text": [
      "[CONTRASTIVE] Epoch 1: loss=2.4592\n",
      "[CONTRASTIVE] Epoch 2: loss=0.8990\n",
      "[CONTRASTIVE] Epoch 3: loss=0.6245\n",
      "[CONTRASTIVE] Epoch 4: loss=0.5218\n",
      "[CONTRASTIVE] Epoch 5: loss=0.4607\n",
      "[CONTRASTIVE] Epoch 6: loss=0.4327\n",
      "[CONTRASTIVE] Epoch 7: loss=0.3447\n",
      "[CONTRASTIVE] Epoch 8: loss=0.4316\n",
      "[CONTRASTIVE] Epoch 9: loss=0.2974\n",
      "[CONTRASTIVE] Epoch 10: loss=0.3488\n",
      "[CONTRASTIVE] Epoch 11: loss=0.4512\n",
      "[CONTRASTIVE] Epoch 12: loss=0.2297\n",
      "[CONTRASTIVE] Epoch 13: loss=0.2885\n",
      "[CONTRASTIVE] Epoch 14: loss=0.3023\n",
      "[CONTRASTIVE] Epoch 15: loss=0.3611\n",
      "[CONTRASTIVE] Epoch 16: loss=0.3395\n",
      "[CONTRASTIVE] Epoch 17: loss=0.1810\n",
      "[CONTRASTIVE] Epoch 18: loss=0.4450\n",
      "[CONTRASTIVE] Epoch 19: loss=0.1908\n",
      "[CONTRASTIVE] Epoch 20: loss=0.2149\n",
      "Saved ckpts/contrastive_phi.pt\n",
      "Saved ckpts/contrastive_g.pt\n"
     ]
    }
   ],
   "source": [
    "import wandb\n",
    "from scripts.train import train_phase1_contrastive, _maybe_init_wandb\n",
    "import torch\n",
    "\n",
    "device = 'mps'\n",
    "z_space = 'contrastive'\n",
    "wb = _maybe_init_wandb(cfg)\n",
    "\n",
    "phi_path, g_path = train_phase1_contrastive(cfg, device, wb)"
   ]
  },
  {
   "cell_type": "markdown",
   "id": "6c403a9b",
   "metadata": {},
   "source": [
    "## Train Phase 2 dynamics (on selected latent space)"
   ]
  },
  {
   "cell_type": "code",
   "execution_count": 8,
   "id": "0961f64f",
   "metadata": {},
   "outputs": [
    {
     "name": "stdout",
     "output_type": "stream",
     "text": [
      "[DYN-CONTRASTIVE] Epoch 1: mse=1.2058\n",
      "[DYN-CONTRASTIVE] Epoch 2: mse=0.0624\n",
      "[DYN-CONTRASTIVE] Epoch 3: mse=0.0629\n",
      "[DYN-CONTRASTIVE] Epoch 4: mse=0.0629\n",
      "[DYN-CONTRASTIVE] Epoch 5: mse=0.0625\n",
      "[DYN-CONTRASTIVE] Epoch 6: mse=0.0632\n",
      "[DYN-CONTRASTIVE] Epoch 7: mse=0.0645\n",
      "[DYN-CONTRASTIVE] Epoch 8: mse=0.0634\n",
      "[DYN-CONTRASTIVE] Epoch 9: mse=0.0642\n",
      "[DYN-CONTRASTIVE] Epoch 10: mse=0.0635\n",
      "[DYN-CONTRASTIVE] Epoch 11: mse=0.0642\n",
      "[DYN-CONTRASTIVE] Epoch 12: mse=0.0646\n",
      "[DYN-CONTRASTIVE] Epoch 13: mse=0.0638\n",
      "[DYN-CONTRASTIVE] Epoch 14: mse=0.0643\n",
      "[DYN-CONTRASTIVE] Epoch 15: mse=0.0648\n",
      "[DYN-CONTRASTIVE] Epoch 16: mse=0.0659\n",
      "[DYN-CONTRASTIVE] Epoch 17: mse=0.0640\n",
      "[DYN-CONTRASTIVE] Epoch 18: mse=0.0659\n",
      "[DYN-CONTRASTIVE] Epoch 19: mse=0.0641\n",
      "[DYN-CONTRASTIVE] Epoch 20: mse=0.0658\n",
      "Saved ckpts/dyn_contrastive.pt\n"
     ]
    },
    {
     "data": {
      "text/plain": [
       "('ckpts/dyn_contrastive.pt',\n",
       " {'final_dyn-contrastive_mse': 0.06576383593082429})"
      ]
     },
     "execution_count": 8,
     "metadata": {},
     "output_type": "execute_result"
    }
   ],
   "source": [
    "from scripts.train import train_phase2_dynamics\n",
    "\n",
    "dyn_path = train_phase2_dynamics(cfg, device, z_space=z_space, wb=wb)\n",
    "dyn_path"
   ]
  },
  {
   "cell_type": "markdown",
   "id": "f022ec73",
   "metadata": {},
   "source": [
    "## Train probe on frozen latents (z → R^2)"
   ]
  },
  {
   "cell_type": "code",
   "execution_count": 9,
   "id": "c58e572a",
   "metadata": {},
   "outputs": [
    {
     "name": "stdout",
     "output_type": "stream",
     "text": [
      "[PROBE-CONTRASTIVE] Epoch 1: mse=0.0335\n",
      "[PROBE-CONTRASTIVE] Epoch 2: mse=0.0013\n",
      "[PROBE-CONTRASTIVE] Epoch 3: mse=0.0010\n",
      "[PROBE-CONTRASTIVE] Epoch 4: mse=0.0010\n",
      "[PROBE-CONTRASTIVE] Epoch 5: mse=0.0010\n",
      "[PROBE-CONTRASTIVE] Epoch 6: mse=0.0009\n",
      "[PROBE-CONTRASTIVE] Epoch 7: mse=0.0009\n",
      "[PROBE-CONTRASTIVE] Epoch 8: mse=0.0010\n",
      "[PROBE-CONTRASTIVE] Epoch 9: mse=0.0010\n",
      "[PROBE-CONTRASTIVE] Epoch 10: mse=0.0010\n",
      "[PROBE-CONTRASTIVE] Epoch 11: mse=0.0010\n",
      "[PROBE-CONTRASTIVE] Epoch 12: mse=0.0010\n",
      "[PROBE-CONTRASTIVE] Epoch 13: mse=0.0010\n",
      "[PROBE-CONTRASTIVE] Epoch 14: mse=0.0010\n",
      "[PROBE-CONTRASTIVE] Epoch 15: mse=0.0010\n",
      "[PROBE-CONTRASTIVE] Epoch 16: mse=0.0010\n",
      "[PROBE-CONTRASTIVE] Epoch 17: mse=0.0010\n",
      "[PROBE-CONTRASTIVE] Epoch 18: mse=0.0010\n",
      "[PROBE-CONTRASTIVE] Epoch 19: mse=0.0010\n",
      "[PROBE-CONTRASTIVE] Epoch 20: mse=0.0010\n",
      "Saved ckpts/probe_contrastive.pt\n"
     ]
    },
    {
     "data": {
      "text/plain": [
       "('ckpts/probe_contrastive.pt',\n",
       " {'final_probe-contrastive_mse': 0.0009764376486341158})"
      ]
     },
     "execution_count": 9,
     "metadata": {},
     "output_type": "execute_result"
    }
   ],
   "source": [
    "from scripts.train import train_probes\n",
    "probe_path = train_probes(cfg, device, z_space=z_space, wb=wb)\n",
    "probe_path"
   ]
  },
  {
   "cell_type": "markdown",
   "id": "31fb72c6",
   "metadata": {},
   "source": [
    "## Evaluate end-to-end next-signal MSE"
   ]
  },
  {
   "cell_type": "code",
   "execution_count": 10,
   "id": "b9d0566c",
   "metadata": {},
   "outputs": [
    {
     "name": "stdout",
     "output_type": "stream",
     "text": [
      "[EVAL-contrastive] next-signal MSE = 0.001231\n"
     ]
    },
    {
     "data": {
      "text/plain": [
       "{'final_eval_loss': 0.001231414869427681}"
      ]
     },
     "execution_count": 10,
     "metadata": {},
     "output_type": "execute_result"
    }
   ],
   "source": [
    "from scripts.eval import evaluate\n",
    "evaluate(cfg, z_space, device)"
   ]
  }
 ],
 "metadata": {
  "kernelspec": {
   "display_name": "toy",
   "language": "python",
   "name": "python3"
  },
  "language_info": {
   "codemirror_mode": {
    "name": "ipython",
    "version": 3
   },
   "file_extension": ".py",
   "mimetype": "text/x-python",
   "name": "python",
   "nbconvert_exporter": "python",
   "pygments_lexer": "ipython3",
   "version": "3.12.11"
  }
 },
 "nbformat": 4,
 "nbformat_minor": 5
}
