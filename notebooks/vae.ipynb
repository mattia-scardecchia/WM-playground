{
    "cells": [
        {
            "cell_type": "code",
            "execution_count": 1,
            "id": "eda8db39",
            "metadata": {},
            "outputs": [],
            "source": [
                "import sys\n",
                "import yaml\n",
                "import numpy as np\n",
                "from pathlib import Path\n",
                "import hydra\n",
                "from hydra import compose, initialize_config_dir\n",
                "from omegaconf import DictConfig\n",
                "import os\n",
                "\n",
                "sys.path.append('../')"
            ]
        },
        {
            "cell_type": "code",
            "execution_count": null,
            "id": "6ef40d1d",
            "metadata": {},
            "outputs": [
                {
                    "data": {
                        "text/plain": [
                            "{'data': {'signal_dim': 2,\n",
                            "  'noise_dim': 100,\n",
                            "  'num_actions': 4,\n",
                            "  'traj_len': 200,\n",
                            "  'step_size': 0.135,\n",
                            "  'n_train': 300,\n",
                            "  'n_val': 30,\n",
                            "  'n_test': 30,\n",
                            "  'seed': 0,\n",
                            "  'out_dir': 'data/'},\n",
                            " 'model': {'z_dim_vae': 2,\n",
                            "  'z_dim_contrastive': 2,\n",
                            "  'enc_widths': [256, 256],\n",
                            "  'dec_widths': [256, 256],\n",
                            "  'proj_widths': [256, 256],\n",
                            "  'dyn_widths': [256, 256],\n",
                            "  'probe_widths': [64, 64],\n",
                            "  'activation': 'relu'},\n",
                            " 'train': {'batch_size': 256,\n",
                            "  'steps_phase1': 10,\n",
                            "  'steps_phase2': 10,\n",
                            "  'steps_probe': 10,\n",
                            "  'num_workers': 0,\n",
                            "  'ckpt_dir': 'ckpts/',\n",
                            "  'eval_batch_size': 512,\n",
                            "  'wandb_log_freq': 200,\n",
                            "  'device': 'mps',\n",
                            "  'vae': {'lr': 0.002, 'weight_decay': 0.0, 'beta': 0.001},\n",
                            "  'contrastive': {'lr': 0.001, 'weight_decay': 0.0, 'temperature': 0.1},\n",
                            "  'dynamics': {'lr': 0.001, 'weight_decay': 0.0},\n",
                            "  'probe': {'lr': 0.001, 'weight_decay': 0.0}},\n",
                            " 'wandb': {'enabled': True,\n",
                            "  'project': 'repr-world',\n",
                            "  'entity': 'mattia-scardecchia',\n",
                            "  'group': None,\n",
                            "  'mode': 'online',\n",
                            "  'dir': 'logs',\n",
                            "  'tags': ['toy', 'repr']}}"
                        ]
                    },
                    "execution_count": 2,
                    "metadata": {},
                    "output_type": "execute_result"
                }
            ],
            "source": [
                "from omegaconf import OmegaConf\n",
                "\n",
                "\n",
                "config_dir = os.path.abspath('../conf')\n",
                "with initialize_config_dir(config_dir=config_dir, version_base=None):\n",
                "    cfg = compose(config_name=\"config\")\n",
                "\n",
                "cfg"
            ]
        },
        {
            "cell_type": "code",
            "execution_count": 3,
            "id": "b1d45aa8",
            "metadata": {},
            "outputs": [
                {
                    "name": "stdout",
                    "output_type": "stream",
                    "text": [
                        "Wrote data/train.npz with shapes s(60000, 102), a(60000,), sp(60000, 102)\n",
                        "Wrote data/val.npz with shapes s(6000, 102), a(6000,), sp(6000, 102)\n",
                        "Wrote data/test.npz with shapes s(6000, 102), a(6000,), sp(6000, 102)\n"
                    ]
                }
            ],
            "source": [
                "from scripts.generate_data import main as gen_main\n",
                "\n",
                "gen_main(cfg)"
            ]
        },
        {
            "cell_type": "markdown",
            "id": "b47bebee",
            "metadata": {},
            "source": [
                "## Train Phase 1 (choose one)"
            ]
        },
        {
            "cell_type": "code",
            "execution_count": 7,
            "id": "7eca72dc",
            "metadata": {},
            "outputs": [
                {
                    "name": "stderr",
                    "output_type": "stream",
                    "text": [
                        "\u001b[34m\u001b[1mwandb\u001b[0m: Currently logged in as: \u001b[33mmattia-scardecchia\u001b[0m to \u001b[32mhttps://api.wandb.ai\u001b[0m. Use \u001b[1m`wandb login --relogin`\u001b[0m to force relogin\n"
                    ]
                },
                {
                    "data": {
                        "text/html": [],
                        "text/plain": [
                            "<IPython.core.display.HTML object>"
                        ]
                    },
                    "metadata": {},
                    "output_type": "display_data"
                },
                {
                    "data": {
                        "text/html": [
                            "Tracking run with wandb version 0.22.0"
                        ],
                        "text/plain": [
                            "<IPython.core.display.HTML object>"
                        ]
                    },
                    "metadata": {},
                    "output_type": "display_data"
                },
                {
                    "data": {
                        "text/html": [
                            "Run data is saved locally in <code>logs/wandb/run-20250924_000233-pi44ytcp</code>"
                        ],
                        "text/plain": [
                            "<IPython.core.display.HTML object>"
                        ]
                    },
                    "metadata": {},
                    "output_type": "display_data"
                },
                {
                    "data": {
                        "text/html": [
                            "Syncing run <strong><a href='https://wandb.ai/mattia-scardecchia/repr-world/runs/pi44ytcp' target=\"_blank\">young-universe-26</a></strong> to <a href='https://wandb.ai/mattia-scardecchia/repr-world' target=\"_blank\">Weights & Biases</a> (<a href='https://wandb.me/developer-guide' target=\"_blank\">docs</a>)<br>"
                        ],
                        "text/plain": [
                            "<IPython.core.display.HTML object>"
                        ]
                    },
                    "metadata": {},
                    "output_type": "display_data"
                },
                {
                    "data": {
                        "text/html": [
                            " View project at <a href='https://wandb.ai/mattia-scardecchia/repr-world' target=\"_blank\">https://wandb.ai/mattia-scardecchia/repr-world</a>"
                        ],
                        "text/plain": [
                            "<IPython.core.display.HTML object>"
                        ]
                    },
                    "metadata": {},
                    "output_type": "display_data"
                },
                {
                    "data": {
                        "text/html": [
                            " View run at <a href='https://wandb.ai/mattia-scardecchia/repr-world/runs/pi44ytcp' target=\"_blank\">https://wandb.ai/mattia-scardecchia/repr-world/runs/pi44ytcp</a>"
                        ],
                        "text/plain": [
                            "<IPython.core.display.HTML object>"
                        ]
                    },
                    "metadata": {},
                    "output_type": "display_data"
                },
                {
                    "name": "stdout",
                    "output_type": "stream",
                    "text": [
                        "Training VAE. Epochs: 10; Batch size: 256; Steps per epoch: 235.\n"
                    ]
                },
                {
                    "name": "stderr",
                    "output_type": "stream",
                    "text": [
                        "/Users/mat/anaconda3/envs/toy/lib/python3.12/site-packages/torch/utils/data/dataloader.py:684: UserWarning: 'pin_memory' argument is set as true but not supported on MPS now, then device pinned memory won't be used.\n",
                        "  warnings.warn(warn_msg)\n"
                    ]
                },
                {
                    "name": "stdout",
                    "output_type": "stream",
                    "text": [
                        "[VAE] Epoch 1: train_loss=0.9906, train_recon=0.9887, train_kl=1.9608\n",
                        "[VAE-VAL] Epoch 1: val_loss=0.9839, val_recon=0.9819, val_kl=1.9232\n",
                        "[VAE] Epoch 2: train_loss=0.9828, train_recon=0.9807, train_kl=2.1564\n",
                        "[VAE-VAL] Epoch 2: val_loss=0.9829, val_recon=0.9808, val_kl=2.0806\n",
                        "[VAE] Epoch 2: train_loss=0.9828, train_recon=0.9807, train_kl=2.1564\n",
                        "[VAE-VAL] Epoch 2: val_loss=0.9829, val_recon=0.9808, val_kl=2.0806\n",
                        "[VAE] Epoch 3: train_loss=0.9817, train_recon=0.9794, train_kl=2.2566\n",
                        "[VAE-VAL] Epoch 3: val_loss=0.9820, val_recon=0.9798, val_kl=2.2173\n",
                        "[VAE] Epoch 3: train_loss=0.9817, train_recon=0.9794, train_kl=2.2566\n",
                        "[VAE-VAL] Epoch 3: val_loss=0.9820, val_recon=0.9798, val_kl=2.2173\n",
                        "[VAE] Epoch 4: train_loss=0.9810, train_recon=0.9786, train_kl=2.3552\n",
                        "[VAE-VAL] Epoch 4: val_loss=0.9823, val_recon=0.9802, val_kl=2.1531\n",
                        "[VAE] Epoch 4: train_loss=0.9810, train_recon=0.9786, train_kl=2.3552\n",
                        "[VAE-VAL] Epoch 4: val_loss=0.9823, val_recon=0.9802, val_kl=2.1531\n",
                        "[VAE] Epoch 5: train_loss=0.9805, train_recon=0.9781, train_kl=2.4508\n",
                        "[VAE-VAL] Epoch 5: val_loss=0.9824, val_recon=0.9802, val_kl=2.2242\n",
                        "[VAE] Epoch 5: train_loss=0.9805, train_recon=0.9781, train_kl=2.4508\n",
                        "[VAE-VAL] Epoch 5: val_loss=0.9824, val_recon=0.9802, val_kl=2.2242\n",
                        "[VAE] Epoch 6: train_loss=0.9801, train_recon=0.9776, train_kl=2.5176\n",
                        "[VAE-VAL] Epoch 6: val_loss=0.9815, val_recon=0.9791, val_kl=2.3744\n",
                        "[VAE] Epoch 6: train_loss=0.9801, train_recon=0.9776, train_kl=2.5176\n",
                        "[VAE-VAL] Epoch 6: val_loss=0.9815, val_recon=0.9791, val_kl=2.3744\n",
                        "[VAE] Epoch 7: train_loss=0.9798, train_recon=0.9772, train_kl=2.5890\n",
                        "[VAE-VAL] Epoch 7: val_loss=0.9812, val_recon=0.9786, val_kl=2.5979\n",
                        "[VAE] Epoch 7: train_loss=0.9798, train_recon=0.9772, train_kl=2.5890\n",
                        "[VAE-VAL] Epoch 7: val_loss=0.9812, val_recon=0.9786, val_kl=2.5979\n",
                        "[VAE] Epoch 8: train_loss=0.9796, train_recon=0.9769, train_kl=2.6620\n",
                        "[VAE-VAL] Epoch 8: val_loss=0.9815, val_recon=0.9789, val_kl=2.6191\n",
                        "[VAE] Epoch 8: train_loss=0.9796, train_recon=0.9769, train_kl=2.6620\n",
                        "[VAE-VAL] Epoch 8: val_loss=0.9815, val_recon=0.9789, val_kl=2.6191\n",
                        "[VAE] Epoch 9: train_loss=0.9793, train_recon=0.9766, train_kl=2.7287\n",
                        "[VAE-VAL] Epoch 9: val_loss=0.9819, val_recon=0.9793, val_kl=2.5644\n",
                        "[VAE] Epoch 9: train_loss=0.9793, train_recon=0.9766, train_kl=2.7287\n",
                        "[VAE-VAL] Epoch 9: val_loss=0.9819, val_recon=0.9793, val_kl=2.5644\n",
                        "[VAE] Epoch 10: train_loss=0.9790, train_recon=0.9762, train_kl=2.7707\n",
                        "[VAE-VAL] Epoch 10: val_loss=0.9809, val_recon=0.9784, val_kl=2.5657\n",
                        "Saved ckpts/vae.pt\n",
                        "[VAE] Epoch 10: train_loss=0.9790, train_recon=0.9762, train_kl=2.7707\n",
                        "[VAE-VAL] Epoch 10: val_loss=0.9809, val_recon=0.9784, val_kl=2.5657\n",
                        "Saved ckpts/vae.pt\n",
                        "VAE training metrics: {'final_vae_train_train_loss': 0.9790040353139241, 'final_vae_train_train_recon': 0.9762333542823791, 'final_vae_train_train_kl': 2.77068073387146, 'final_vae_val_val_loss': 0.9809285284678141, 'final_vae_val_val_recon': 0.9783628698984782, 'final_vae_val_val_kl': 2.5656568539937337}\n",
                        "VAE training metrics: {'final_vae_train_train_loss': 0.9790040353139241, 'final_vae_train_train_recon': 0.9762333542823791, 'final_vae_train_train_kl': 2.77068073387146, 'final_vae_val_val_loss': 0.9809285284678141, 'final_vae_val_val_recon': 0.9783628698984782, 'final_vae_val_val_kl': 2.5656568539937337}\n"
                    ]
                }
            ],
            "source": [
                "from scripts.train import train_phase1_contrastive, train_phase1_vae, _maybe_init_wandb\n",
                "\n",
                "device = 'mps'\n",
                "z_space = 'vae'\n",
                "wb = _maybe_init_wandb(cfg)\n",
                "\n",
                "assert z_space == 'vae'\n",
                "enc_path, vae_metrics = train_phase1_vae(cfg, device, wb)\n",
                "print(\"VAE training metrics:\", vae_metrics)"
            ]
        },
        {
            "cell_type": "markdown",
            "id": "3ae2ba3f",
            "metadata": {},
            "source": [
                "## Train Phase 2 dynamics (on selected latent space)"
            ]
        },
        {
            "cell_type": "code",
            "execution_count": null,
            "id": "2070fc26",
            "metadata": {},
            "outputs": [
                {
                    "name": "stdout",
                    "output_type": "stream",
                    "text": [
                        "[DYN-VAE] Epoch 1: train_mse=0.5703\n",
                        "[DYN-VAE-VAL] Epoch 1: val_mse=0.4547\n",
                        "[DYN-VAE] Epoch 2: train_mse=0.5465\n",
                        "[DYN-VAE-VAL] Epoch 2: val_mse=0.4490\n",
                        "[DYN-VAE] Epoch 2: train_mse=0.5465\n",
                        "[DYN-VAE-VAL] Epoch 2: val_mse=0.4490\n",
                        "[DYN-VAE] Epoch 3: train_mse=0.5436\n",
                        "[DYN-VAE-VAL] Epoch 3: val_mse=0.4617\n",
                        "[DYN-VAE] Epoch 3: train_mse=0.5436\n",
                        "[DYN-VAE-VAL] Epoch 3: val_mse=0.4617\n",
                        "[DYN-VAE] Epoch 4: train_mse=0.5417\n",
                        "[DYN-VAE-VAL] Epoch 4: val_mse=0.4636\n",
                        "[DYN-VAE] Epoch 4: train_mse=0.5417\n",
                        "[DYN-VAE-VAL] Epoch 4: val_mse=0.4636\n",
                        "[DYN-VAE] Epoch 5: train_mse=0.5403\n",
                        "[DYN-VAE-VAL] Epoch 5: val_mse=0.4516\n",
                        "[DYN-VAE] Epoch 5: train_mse=0.5403\n",
                        "[DYN-VAE-VAL] Epoch 5: val_mse=0.4516\n",
                        "[DYN-VAE] Epoch 6: train_mse=0.5390\n",
                        "[DYN-VAE-VAL] Epoch 6: val_mse=0.4638\n",
                        "[DYN-VAE] Epoch 6: train_mse=0.5390\n",
                        "[DYN-VAE-VAL] Epoch 6: val_mse=0.4638\n",
                        "[DYN-VAE] Epoch 7: train_mse=0.5388\n",
                        "[DYN-VAE-VAL] Epoch 7: val_mse=0.4531\n",
                        "[DYN-VAE] Epoch 7: train_mse=0.5388\n",
                        "[DYN-VAE-VAL] Epoch 7: val_mse=0.4531\n",
                        "[DYN-VAE] Epoch 8: train_mse=0.5384\n",
                        "[DYN-VAE-VAL] Epoch 8: val_mse=0.4602\n",
                        "[DYN-VAE] Epoch 8: train_mse=0.5384\n",
                        "[DYN-VAE-VAL] Epoch 8: val_mse=0.4602\n",
                        "[DYN-VAE] Epoch 9: train_mse=0.5378\n",
                        "[DYN-VAE-VAL] Epoch 9: val_mse=0.4463\n",
                        "[DYN-VAE] Epoch 9: train_mse=0.5378\n",
                        "[DYN-VAE-VAL] Epoch 9: val_mse=0.4463\n",
                        "[DYN-VAE] Epoch 10: train_mse=0.5377\n",
                        "[DYN-VAE-VAL] Epoch 10: val_mse=0.4610\n",
                        "Saved ckpts/dyn_vae.pt\n",
                        "[DYN-VAE] Epoch 10: train_mse=0.5377\n",
                        "[DYN-VAE-VAL] Epoch 10: val_mse=0.4610\n",
                        "Saved ckpts/dyn_vae.pt\n",
                        "Dynamics training metrics: {'final_dyn-vae_train_train_mse': 0.5377413393656413, 'final_dyn-vae_val_val_mse': 0.4609738868077596}\n",
                        "Dynamics training metrics: {'final_dyn-vae_train_train_mse': 0.5377413393656413, 'final_dyn-vae_val_val_mse': 0.4609738868077596}\n"
                    ]
                },
                {
                    "data": {
                        "text/plain": [
                            "'ckpts/dyn_vae.pt'"
                        ]
                    },
                    "execution_count": 8,
                    "metadata": {},
                    "output_type": "execute_result"
                }
            ],
            "source": [
                "from scripts.train import train_phase2_dynamics\n",
                "\n",
                "dyn_path, dynamics_metrics = train_phase2_dynamics(cfg, device, repr_method=z_space, wb=wb)\n",
                "print(\"Dynamics training metrics:\", dynamics_metrics)\n",
                "dyn_path"
            ]
        },
        {
            "cell_type": "markdown",
            "id": "08fbdf67",
            "metadata": {},
            "source": [
                "## Train probe on frozen latents (z → R^2)"
            ]
        },
        {
            "cell_type": "code",
            "execution_count": null,
            "id": "c367b200",
            "metadata": {},
            "outputs": [
                {
                    "name": "stdout",
                    "output_type": "stream",
                    "text": [
                        "[PROBE-VAE] Epoch 1: train_mse=0.5085\n",
                        "[PROBE-VAE-VAL] Epoch 1: val_mse=0.3703\n",
                        "[PROBE-VAE] Epoch 2: train_mse=0.3678\n",
                        "[PROBE-VAE-VAL] Epoch 2: val_mse=0.3550\n",
                        "[PROBE-VAE] Epoch 2: train_mse=0.3678\n",
                        "[PROBE-VAE-VAL] Epoch 2: val_mse=0.3550\n",
                        "[PROBE-VAE] Epoch 3: train_mse=0.3574\n",
                        "[PROBE-VAE-VAL] Epoch 3: val_mse=0.3640\n",
                        "[PROBE-VAE] Epoch 3: train_mse=0.3574\n",
                        "[PROBE-VAE-VAL] Epoch 3: val_mse=0.3640\n",
                        "[PROBE-VAE] Epoch 4: train_mse=0.3526\n",
                        "[PROBE-VAE-VAL] Epoch 4: val_mse=0.3708\n",
                        "[PROBE-VAE] Epoch 4: train_mse=0.3526\n",
                        "[PROBE-VAE-VAL] Epoch 4: val_mse=0.3708\n",
                        "[PROBE-VAE] Epoch 5: train_mse=0.3502\n",
                        "[PROBE-VAE-VAL] Epoch 5: val_mse=0.3592\n",
                        "[PROBE-VAE] Epoch 5: train_mse=0.3502\n",
                        "[PROBE-VAE-VAL] Epoch 5: val_mse=0.3592\n",
                        "[PROBE-VAE] Epoch 6: train_mse=0.3486\n",
                        "[PROBE-VAE-VAL] Epoch 6: val_mse=0.3714\n",
                        "[PROBE-VAE] Epoch 6: train_mse=0.3486\n",
                        "[PROBE-VAE-VAL] Epoch 6: val_mse=0.3714\n",
                        "[PROBE-VAE] Epoch 7: train_mse=0.3484\n",
                        "[PROBE-VAE-VAL] Epoch 7: val_mse=0.3628\n",
                        "[PROBE-VAE] Epoch 7: train_mse=0.3484\n",
                        "[PROBE-VAE-VAL] Epoch 7: val_mse=0.3628\n",
                        "[PROBE-VAE] Epoch 8: train_mse=0.3467\n",
                        "[PROBE-VAE-VAL] Epoch 8: val_mse=0.3690\n",
                        "[PROBE-VAE] Epoch 8: train_mse=0.3467\n",
                        "[PROBE-VAE-VAL] Epoch 8: val_mse=0.3690\n",
                        "[PROBE-VAE] Epoch 9: train_mse=0.3465\n",
                        "[PROBE-VAE-VAL] Epoch 9: val_mse=0.3513\n",
                        "[PROBE-VAE] Epoch 9: train_mse=0.3465\n",
                        "[PROBE-VAE-VAL] Epoch 9: val_mse=0.3513\n",
                        "[PROBE-VAE] Epoch 10: train_mse=0.3462\n",
                        "[PROBE-VAE-VAL] Epoch 10: val_mse=0.3683\n",
                        "Saved ckpts/probe_vae.pt\n",
                        "[PROBE-VAE] Epoch 10: train_mse=0.3462\n",
                        "[PROBE-VAE-VAL] Epoch 10: val_mse=0.3683\n",
                        "Saved ckpts/probe_vae.pt\n",
                        "Probe training metrics: {'final_probe-vae_train_train_mse': 0.34615799001057945, 'final_probe-vae_val_val_mse': 0.3683152112166087}\n",
                        "Probe training metrics: {'final_probe-vae_train_train_mse': 0.34615799001057945, 'final_probe-vae_val_val_mse': 0.3683152112166087}\n"
                    ]
                },
                {
                    "data": {
                        "text/plain": [
                            "'ckpts/probe_vae.pt'"
                        ]
                    },
                    "execution_count": 9,
                    "metadata": {},
                    "output_type": "execute_result"
                }
            ],
            "source": [
                "from scripts.train import train_probes\n",
                "probe_path, probe_metrics = train_probes(cfg, device, repr_method=z_space, wb=wb)\n",
                "print(\"Probe training metrics:\", probe_metrics)\n",
                "probe_path"
            ]
        },
        {
            "cell_type": "markdown",
            "id": "3bc0a219",
            "metadata": {},
            "source": [
                "## Evaluate end-to-end next-signal MSE"
            ]
        },
        {
            "cell_type": "code",
            "execution_count": 10,
            "id": "5ee989c9",
            "metadata": {},
            "outputs": [
                {
                    "name": "stdout",
                    "output_type": "stream",
                    "text": [
                        "[EVAL-vae] next-signal MSE = 0.530017\n",
                        "Evaluation metrics: {'final_eval_loss': 0.5300166204770406}\n"
                    ]
                }
            ],
            "source": [
                "from scripts.eval import evaluate\n",
                "eval_metrics = evaluate(cfg, z_space, device)\n",
                "print(\"Evaluation metrics:\", eval_metrics)"
            ]
        }
    ],
    "metadata": {
        "kernelspec": {
            "display_name": "toy",
            "language": "python",
            "name": "python3"
        },
        "language_info": {
            "codemirror_mode": {
                "name": "ipython",
                "version": 3
            },
            "file_extension": ".py",
            "mimetype": "text/x-python",
            "name": "python",
            "nbconvert_exporter": "python",
            "pygments_lexer": "ipython3",
            "version": "3.12.11"
        }
    },
    "nbformat": 4,
    "nbformat_minor": 5
}