{
 "cells": [
  {
   "cell_type": "code",
   "execution_count": 1,
   "id": "eda8db39",
   "metadata": {},
   "outputs": [],
   "source": [
    "import sys\n",
    "import yaml\n",
    "import numpy as np\n",
    "from pathlib import Path\n",
    "\n",
    "sys.path.append('../')"
   ]
  },
  {
   "cell_type": "code",
   "execution_count": 2,
   "id": "6ef40d1d",
   "metadata": {},
   "outputs": [
    {
     "data": {
      "text/plain": [
       "{'data': {'D': 102,\n",
       "  'signal_dim': 2,\n",
       "  'noise_dim': 100,\n",
       "  'traj_len': 200,\n",
       "  'step_size': 0.1,\n",
       "  'n_train': 300,\n",
       "  'n_val': 30,\n",
       "  'n_test': 30,\n",
       "  'seed': 0,\n",
       "  'out_dir': 'data/'},\n",
       " 'model': {'z_dim_vae': 2,\n",
       "  'z_dim_contrastive': 2,\n",
       "  'enc_widths': [256, 256],\n",
       "  'dec_widths': [256, 256],\n",
       "  'proj_widths': [256, 256],\n",
       "  'dyn_widths': [256, 256],\n",
       "  'probe_widths': [64, 64],\n",
       "  'activation': 'relu'},\n",
       " 'train': {'batch_size': 256,\n",
       "  'epochs_phase1': 10,\n",
       "  'epochs_phase2': 10,\n",
       "  'epochs_probe': 10,\n",
       "  'num_workers': 0,\n",
       "  'ckpt_dir': 'ckpts/',\n",
       "  'vae': {'lr': 0.002, 'weight_decay': 0.0, 'beta': 0.001},\n",
       "  'contrastive': {'lr': 0.001, 'weight_decay': 0.0, 'temperature': 0.1},\n",
       "  'dynamics': {'lr': 0.001, 'weight_decay': 0.0},\n",
       "  'probe': {'lr': 0.001, 'weight_decay': 0.0}},\n",
       " 'wandb': {'enabled': True,\n",
       "  'project': 'repr-world',\n",
       "  'entity': None,\n",
       "  'group': None,\n",
       "  'mode': 'online',\n",
       "  'dir': 'logs',\n",
       "  'tags': ['toy', 'repr']}}"
      ]
     },
     "execution_count": 2,
     "metadata": {},
     "output_type": "execute_result"
    }
   ],
   "source": [
    "with open('../config.yaml', 'r') as f:\n",
    "    cfg = yaml.safe_load(f)\n",
    "cfg"
   ]
  },
  {
   "cell_type": "code",
   "execution_count": 3,
   "id": "b1d45aa8",
   "metadata": {},
   "outputs": [
    {
     "name": "stdout",
     "output_type": "stream",
     "text": [
      "Wrote data/train.npz with shapes s(60000, 102), a(60000,), sp(60000, 102)\n",
      "Wrote data/val.npz with shapes s(6000, 102), a(6000,), sp(6000, 102)\n",
      "Wrote data/test.npz with shapes s(6000, 102), a(6000,), sp(6000, 102)\n"
     ]
    }
   ],
   "source": [
    "from scripts.generate_data import main as gen_main\n",
    "\n",
    "gen_main(cfg)"
   ]
  },
  {
   "cell_type": "markdown",
   "id": "b9d77ba6",
   "metadata": {},
   "source": [
    "## Quick data exploration"
   ]
  },
  {
   "cell_type": "code",
   "execution_count": 4,
   "id": "d9e50f26",
   "metadata": {},
   "outputs": [
    {
     "name": "stdout",
     "output_type": "stream",
     "text": [
      "train shapes: (60000, 102) (60000,) (60000, 102)\n",
      "state mean/std: -0.000257664 1.0058259\n",
      "signal mean/std: -0.028032197 1.2757925\n",
      "noise mean/std: 0.0002978269 0.9996753\n",
      "actions min/max/unique: 0 3 (array([0, 1, 2, 3]), array([15118, 14927, 14967, 14988]))\n"
     ]
    }
   ],
   "source": [
    "import numpy as np\n",
    "import matplotlib.pyplot as plt\n",
    "from pathlib import Path\n",
    "\n",
    "data_dir = Path(cfg['data']['out_dir'])\n",
    "train = np.load(data_dir / 'train.npz')\n",
    "val = np.load(data_dir / 'val.npz')\n",
    "test = np.load(data_dir / 'test.npz')\n",
    "\n",
    "s, a, sp = train['s'], train['a'], train['sp']\n",
    "print(\"train shapes:\", s.shape, a.shape, sp.shape)\n",
    "\n",
    "print(\"state mean/std:\", s.mean(), s.std())\n",
    "print(\"signal mean/std:\", s[:,0:2].mean(), s[:,0:2].std())\n",
    "print(\"noise mean/std:\", s[:,2:].mean(), s[:,2:].std())\n",
    "print(\"actions min/max/unique:\", a.min(), a.max(), np.unique(a, return_counts=True))\n",
    "\n",
    "N = min(10000, s.shape[0])\n",
    "idx = np.random.choice(s.shape[0], N, replace=False)\n",
    "\n",
    "# plt.figure()\n",
    "# plt.scatter(s[idx,0], s[idx,1], s=2, alpha=0.3)\n",
    "# plt.title(\"Signal component scatter (N random points)\")\n",
    "# plt.xlabel(\"x\")\n",
    "# plt.ylabel(\"y\")\n",
    "# plt.show()\n",
    "\n",
    "# plt.figure()\n",
    "# plt.hist(s[idx,0], bins=50, alpha=0.5, label='signal-x')\n",
    "# plt.hist(s[idx,1], bins=50, alpha=0.5, label='signal-y')\n",
    "# plt.title(\"Signal dims hist (x,y) [random sample]\")\n",
    "# plt.xlabel(\"value\")\n",
    "# plt.ylabel(\"freq\")\n",
    "# plt.legend()\n",
    "# plt.show()\n",
    "\n",
    "# plt.figure()\n",
    "# plt.hist(s[idx,2], bins=50)\n",
    "# plt.title(\"One noise dim hist (s[:,2]) [random sample]\")\n",
    "# plt.xlabel(\"value\")\n",
    "# plt.ylabel(\"freq\")\n",
    "# plt.show()"
   ]
  },
  {
   "cell_type": "code",
   "execution_count": 5,
   "id": "98927e30",
   "metadata": {},
   "outputs": [
    {
     "data": {
      "text/plain": [
       "np.float32(1.6275393)"
      ]
     },
     "execution_count": 5,
     "metadata": {},
     "output_type": "execute_result"
    }
   ],
   "source": [
    "# The signal has a quasi-gaussian histogram. The best non-parametric guess for reconstruction is the mean.\n",
    "# MSE of that guess is the variance.\n",
    "\n",
    "((s[:, :2] - s[:, :2].mean(axis=0))**2).mean()"
   ]
  },
  {
   "cell_type": "code",
   "execution_count": 6,
   "id": "8e0e1085",
   "metadata": {},
   "outputs": [
    {
     "data": {
      "text/plain": [
       "np.float32(1.0116515)"
      ]
     },
     "execution_count": 6,
     "metadata": {},
     "output_type": "execute_result"
    }
   ],
   "source": [
    "# Same applies to the noise dimensions.\n",
    "# Global MSE:\n",
    "\n",
    "((s[:, :] - s[:, :].mean(axis=0))**2).mean()"
   ]
  },
  {
   "cell_type": "markdown",
   "id": "b47bebee",
   "metadata": {},
   "source": [
    "## Train Phase 1 (choose one)"
   ]
  },
  {
   "cell_type": "code",
   "execution_count": 7,
   "id": "7eca72dc",
   "metadata": {},
   "outputs": [
    {
     "name": "stderr",
     "output_type": "stream",
     "text": [
      "\u001b[34m\u001b[1mwandb\u001b[0m: Currently logged in as: \u001b[33mmattia-scardecchia\u001b[0m to \u001b[32mhttps://api.wandb.ai\u001b[0m. Use \u001b[1m`wandb login --relogin`\u001b[0m to force relogin\n"
     ]
    },
    {
     "data": {
      "text/html": [],
      "text/plain": [
       "<IPython.core.display.HTML object>"
      ]
     },
     "metadata": {},
     "output_type": "display_data"
    },
    {
     "data": {
      "text/html": [
       "Tracking run with wandb version 0.22.0"
      ],
      "text/plain": [
       "<IPython.core.display.HTML object>"
      ]
     },
     "metadata": {},
     "output_type": "display_data"
    },
    {
     "data": {
      "text/html": [
       "Run data is saved locally in <code>logs/wandb/run-20250922_220255-93vgngal</code>"
      ],
      "text/plain": [
       "<IPython.core.display.HTML object>"
      ]
     },
     "metadata": {},
     "output_type": "display_data"
    },
    {
     "data": {
      "text/html": [
       "Syncing run <strong><a href='https://wandb.ai/mattia-scardecchia/repr-world/runs/93vgngal' target=\"_blank\">eternal-universe-17</a></strong> to <a href='https://wandb.ai/mattia-scardecchia/repr-world' target=\"_blank\">Weights & Biases</a> (<a href='https://wandb.me/developer-guide' target=\"_blank\">docs</a>)<br>"
      ],
      "text/plain": [
       "<IPython.core.display.HTML object>"
      ]
     },
     "metadata": {},
     "output_type": "display_data"
    },
    {
     "data": {
      "text/html": [
       " View project at <a href='https://wandb.ai/mattia-scardecchia/repr-world' target=\"_blank\">https://wandb.ai/mattia-scardecchia/repr-world</a>"
      ],
      "text/plain": [
       "<IPython.core.display.HTML object>"
      ]
     },
     "metadata": {},
     "output_type": "display_data"
    },
    {
     "data": {
      "text/html": [
       " View run at <a href='https://wandb.ai/mattia-scardecchia/repr-world/runs/93vgngal' target=\"_blank\">https://wandb.ai/mattia-scardecchia/repr-world/runs/93vgngal</a>"
      ],
      "text/plain": [
       "<IPython.core.display.HTML object>"
      ]
     },
     "metadata": {},
     "output_type": "display_data"
    },
    {
     "name": "stdout",
     "output_type": "stream",
     "text": [
      "Training VAE. Epochs: 10; Batch size: 256; Steps per epoch: 235.\n"
     ]
    },
    {
     "name": "stderr",
     "output_type": "stream",
     "text": [
      "/Users/mat/anaconda3/envs/toy/lib/python3.12/site-packages/torch/utils/data/dataloader.py:684: UserWarning: 'pin_memory' argument is set as true but not supported on MPS now, then device pinned memory won't be used.\n",
      "  warnings.warn(warn_msg)\n"
     ]
    },
    {
     "name": "stdout",
     "output_type": "stream",
     "text": [
      "[VAE] Epoch 1: loss=0.9886 (recon=0.9866, kl=1.9974)\n",
      "[VAE] Epoch 2: loss=0.9827 (recon=0.9806, kl=2.1695)\n",
      "[VAE] Epoch 3: loss=0.9817 (recon=0.9795, kl=2.2874)\n",
      "[VAE] Epoch 4: loss=0.9810 (recon=0.9786, kl=2.4247)\n",
      "[VAE] Epoch 5: loss=0.9806 (recon=0.9780, kl=2.5227)\n",
      "[VAE] Epoch 6: loss=0.9802 (recon=0.9776, kl=2.6111)\n",
      "[VAE] Epoch 7: loss=0.9799 (recon=0.9772, kl=2.6901)\n",
      "[VAE] Epoch 8: loss=0.9796 (recon=0.9768, kl=2.7303)\n",
      "[VAE] Epoch 9: loss=0.9793 (recon=0.9765, kl=2.8001)\n",
      "[VAE] Epoch 10: loss=0.9791 (recon=0.9763, kl=2.8453)\n",
      "Saved ckpts/vae.pt\n",
      "VAE training metrics: {'final_vae_loss': 0.9791400657335917, 'final_vae_recon': 0.9762948108990988, 'final_vae_kl': 2.8452555030822753}\n"
     ]
    }
   ],
   "source": [
    "from scripts.train import train_phase1_contrastive, train_phase1_vae, _maybe_init_wandb\n",
    "\n",
    "device = 'mps'\n",
    "z_space = 'vae'\n",
    "wb = _maybe_init_wandb(cfg)\n",
    "\n",
    "assert z_space == 'vae'\n",
    "enc_path, vae_metrics = train_phase1_vae(cfg, device, wb)\n",
    "print(\"VAE training metrics:\", vae_metrics)"
   ]
  },
  {
   "cell_type": "markdown",
   "id": "3ae2ba3f",
   "metadata": {},
   "source": [
    "## Train Phase 2 dynamics (on selected latent space)"
   ]
  },
  {
   "cell_type": "code",
   "execution_count": 8,
   "id": "2070fc26",
   "metadata": {},
   "outputs": [
    {
     "name": "stdout",
     "output_type": "stream",
     "text": [
      "[DYN-VAE] Epoch 1: mse=0.5117\n",
      "[DYN-VAE] Epoch 2: mse=0.4898\n",
      "[DYN-VAE] Epoch 3: mse=0.4851\n",
      "[DYN-VAE] Epoch 4: mse=0.4837\n",
      "[DYN-VAE] Epoch 5: mse=0.4831\n",
      "[DYN-VAE] Epoch 6: mse=0.4820\n",
      "[DYN-VAE] Epoch 7: mse=0.4820\n",
      "[DYN-VAE] Epoch 8: mse=0.4807\n",
      "[DYN-VAE] Epoch 9: mse=0.4804\n",
      "[DYN-VAE] Epoch 10: mse=0.4811\n",
      "Saved ckpts/dyn_vae.pt\n",
      "Dynamics training metrics: {'final_dyn-vae_mse': 0.4811010751247406}\n"
     ]
    },
    {
     "data": {
      "text/plain": [
       "'ckpts/dyn_vae.pt'"
      ]
     },
     "execution_count": 8,
     "metadata": {},
     "output_type": "execute_result"
    }
   ],
   "source": [
    "from scripts.train import train_phase2_dynamics\n",
    "\n",
    "dyn_path, dynamics_metrics = train_phase2_dynamics(cfg, device, z_space=z_space, wb=wb)\n",
    "print(\"Dynamics training metrics:\", dynamics_metrics)\n",
    "dyn_path"
   ]
  },
  {
   "cell_type": "markdown",
   "id": "08fbdf67",
   "metadata": {},
   "source": [
    "## Train probe on frozen latents (z → R^2)"
   ]
  },
  {
   "cell_type": "code",
   "execution_count": 9,
   "id": "c367b200",
   "metadata": {},
   "outputs": [
    {
     "name": "stdout",
     "output_type": "stream",
     "text": [
      "[PROBE-VAE] Epoch 1: mse=0.4810\n",
      "[PROBE-VAE] Epoch 2: mse=0.3379\n",
      "[PROBE-VAE] Epoch 3: mse=0.3270\n",
      "[PROBE-VAE] Epoch 4: mse=0.3233\n",
      "[PROBE-VAE] Epoch 5: mse=0.3207\n",
      "[PROBE-VAE] Epoch 6: mse=0.3201\n",
      "[PROBE-VAE] Epoch 7: mse=0.3195\n",
      "[PROBE-VAE] Epoch 8: mse=0.3192\n",
      "[PROBE-VAE] Epoch 9: mse=0.3193\n",
      "[PROBE-VAE] Epoch 10: mse=0.3186\n",
      "Saved ckpts/probe_vae.pt\n",
      "Probe training metrics: {'final_probe-vae_mse': 0.31855003072420757}\n"
     ]
    },
    {
     "data": {
      "text/plain": [
       "'ckpts/probe_vae.pt'"
      ]
     },
     "execution_count": 9,
     "metadata": {},
     "output_type": "execute_result"
    }
   ],
   "source": [
    "from scripts.train import train_probes\n",
    "probe_path, probe_metrics = train_probes(cfg, device, z_space=z_space, wb=wb)\n",
    "print(\"Probe training metrics:\", probe_metrics)\n",
    "probe_path"
   ]
  },
  {
   "cell_type": "markdown",
   "id": "3bc0a219",
   "metadata": {},
   "source": [
    "## Evaluate end-to-end next-signal MSE"
   ]
  },
  {
   "cell_type": "code",
   "execution_count": 10,
   "id": "5ee989c9",
   "metadata": {},
   "outputs": [
    {
     "name": "stdout",
     "output_type": "stream",
     "text": [
      "[EVAL-vae] next-signal MSE = 0.489901\n",
      "Evaluation metrics: {'final_eval_loss': 0.48990092452367145}\n"
     ]
    }
   ],
   "source": [
    "from scripts.eval import evaluate\n",
    "eval_metrics = evaluate(cfg, z_space, device)\n",
    "print(\"Evaluation metrics:\", eval_metrics)"
   ]
  }
 ],
 "metadata": {
  "kernelspec": {
   "display_name": "toy",
   "language": "python",
   "name": "python3"
  },
  "language_info": {
   "codemirror_mode": {
    "name": "ipython",
    "version": 3
   },
   "file_extension": ".py",
   "mimetype": "text/x-python",
   "name": "python",
   "nbconvert_exporter": "python",
   "pygments_lexer": "ipython3",
   "version": "3.12.11"
  }
 },
 "nbformat": 4,
 "nbformat_minor": 5
}
