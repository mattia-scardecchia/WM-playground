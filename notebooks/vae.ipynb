{
 "cells": [
  {
   "cell_type": "code",
   "execution_count": 1,
   "id": "eda8db39",
   "metadata": {},
   "outputs": [],
   "source": [
    "import sys\n",
    "import yaml\n",
    "import numpy as np\n",
    "from pathlib import Path\n",
    "\n",
    "sys.path.append('../')"
   ]
  },
  {
   "cell_type": "code",
   "execution_count": 2,
   "id": "6ef40d1d",
   "metadata": {},
   "outputs": [
    {
     "data": {
      "text/plain": [
       "{'data': {'D': 102,\n",
       "  'signal_dim': 2,\n",
       "  'noise_dim': 100,\n",
       "  'traj_len': 200,\n",
       "  'step_size': 0.1,\n",
       "  'n_train': 300,\n",
       "  'n_val': 30,\n",
       "  'n_test': 30,\n",
       "  'seed': 0,\n",
       "  'out_dir': 'data/'},\n",
       " 'model': {'z_dim_vae': 2,\n",
       "  'z_dim_contrastive': 2,\n",
       "  'enc_widths': [256, 256],\n",
       "  'dec_widths': [256, 256],\n",
       "  'proj_widths': [256, 256],\n",
       "  'dyn_widths': [256, 256],\n",
       "  'probe_widths': [64, 64],\n",
       "  'activation': 'relu'},\n",
       " 'train': {'batch_size': 256,\n",
       "  'epochs_phase1': 10,\n",
       "  'epochs_phase2': 10,\n",
       "  'epochs_probe': 10,\n",
       "  'num_workers': 0,\n",
       "  'ckpt_dir': 'ckpts/',\n",
       "  'vae': {'lr': 0.002, 'weight_decay': 0.0, 'beta': 0.001},\n",
       "  'contrastive': {'lr': 0.001, 'weight_decay': 0.0, 'temperature': 0.1},\n",
       "  'dynamics': {'lr': 0.001, 'weight_decay': 0.0},\n",
       "  'probe': {'lr': 0.001, 'weight_decay': 0.0}},\n",
       " 'wandb': {'enabled': True,\n",
       "  'project': 'repr-world',\n",
       "  'entity': None,\n",
       "  'group': None,\n",
       "  'mode': 'online',\n",
       "  'dir': 'logs',\n",
       "  'tags': ['toy', 'repr']}}"
      ]
     },
     "execution_count": 2,
     "metadata": {},
     "output_type": "execute_result"
    }
   ],
   "source": [
    "with open('../config.yaml', 'r') as f:\n",
    "    cfg = yaml.safe_load(f)\n",
    "cfg"
   ]
  },
  {
   "cell_type": "code",
   "execution_count": 3,
   "id": "b1d45aa8",
   "metadata": {},
   "outputs": [
    {
     "name": "stdout",
     "output_type": "stream",
     "text": [
      "Wrote data/train.npz with shapes s(60000, 102), a(60000,), sp(60000, 102)\n",
      "Wrote data/val.npz with shapes s(6000, 102), a(6000,), sp(6000, 102)\n",
      "Wrote data/test.npz with shapes s(6000, 102), a(6000,), sp(6000, 102)\n"
     ]
    }
   ],
   "source": [
    "from scripts.generate_data import main as gen_main\n",
    "\n",
    "gen_main(cfg)"
   ]
  },
  {
   "cell_type": "markdown",
   "id": "b9d77ba6",
   "metadata": {},
   "source": [
    "## Quick data exploration"
   ]
  },
  {
   "cell_type": "code",
   "execution_count": 4,
   "id": "d9e50f26",
   "metadata": {},
   "outputs": [
    {
     "name": "stdout",
     "output_type": "stream",
     "text": [
      "train shapes: (60000, 102) (60000,) (60000, 102)\n",
      "state mean/std: -0.000257664 1.0058259\n",
      "signal mean/std: -0.028032197 1.2757925\n",
      "noise mean/std: 0.0002978269 0.9996753\n",
      "actions min/max/unique: 0 3 (array([0, 1, 2, 3]), array([15118, 14927, 14967, 14988]))\n"
     ]
    }
   ],
   "source": [
    "import numpy as np\n",
    "import matplotlib.pyplot as plt\n",
    "from pathlib import Path\n",
    "\n",
    "data_dir = Path(cfg['data']['out_dir'])\n",
    "train = np.load(data_dir / 'train.npz')\n",
    "val = np.load(data_dir / 'val.npz')\n",
    "test = np.load(data_dir / 'test.npz')\n",
    "\n",
    "s, a, sp = train['s'], train['a'], train['sp']\n",
    "print(\"train shapes:\", s.shape, a.shape, sp.shape)\n",
    "\n",
    "print(\"state mean/std:\", s.mean(), s.std())\n",
    "print(\"signal mean/std:\", s[:,0:2].mean(), s[:,0:2].std())\n",
    "print(\"noise mean/std:\", s[:,2:].mean(), s[:,2:].std())\n",
    "print(\"actions min/max/unique:\", a.min(), a.max(), np.unique(a, return_counts=True))\n",
    "\n",
    "N = min(10000, s.shape[0])\n",
    "idx = np.random.choice(s.shape[0], N, replace=False)\n",
    "\n",
    "# plt.figure()\n",
    "# plt.scatter(s[idx,0], s[idx,1], s=2, alpha=0.3)\n",
    "# plt.title(\"Signal component scatter (N random points)\")\n",
    "# plt.xlabel(\"x\")\n",
    "# plt.ylabel(\"y\")\n",
    "# plt.show()\n",
    "\n",
    "# plt.figure()\n",
    "# plt.hist(s[idx,0], bins=50, alpha=0.5, label='signal-x')\n",
    "# plt.hist(s[idx,1], bins=50, alpha=0.5, label='signal-y')\n",
    "# plt.title(\"Signal dims hist (x,y) [random sample]\")\n",
    "# plt.xlabel(\"value\")\n",
    "# plt.ylabel(\"freq\")\n",
    "# plt.legend()\n",
    "# plt.show()\n",
    "\n",
    "# plt.figure()\n",
    "# plt.hist(s[idx,2], bins=50)\n",
    "# plt.title(\"One noise dim hist (s[:,2]) [random sample]\")\n",
    "# plt.xlabel(\"value\")\n",
    "# plt.ylabel(\"freq\")\n",
    "# plt.show()"
   ]
  },
  {
   "cell_type": "code",
   "execution_count": 5,
   "id": "98927e30",
   "metadata": {},
   "outputs": [
    {
     "data": {
      "text/plain": [
       "np.float32(1.6275393)"
      ]
     },
     "execution_count": 5,
     "metadata": {},
     "output_type": "execute_result"
    }
   ],
   "source": [
    "# The signal has a quasi-gaussian histogram. The best non-parametric guess for reconstruction is the mean.\n",
    "# MSE of that guess is the variance.\n",
    "\n",
    "((s[:, :2] - s[:, :2].mean(axis=0))**2).mean()"
   ]
  },
  {
   "cell_type": "code",
   "execution_count": 6,
   "id": "8e0e1085",
   "metadata": {},
   "outputs": [
    {
     "data": {
      "text/plain": [
       "np.float32(1.0116515)"
      ]
     },
     "execution_count": 6,
     "metadata": {},
     "output_type": "execute_result"
    }
   ],
   "source": [
    "# Same applies to the noise dimensions.\n",
    "# Global MSE:\n",
    "\n",
    "((s[:, :] - s[:, :].mean(axis=0))**2).mean()"
   ]
  },
  {
   "cell_type": "markdown",
   "id": "b47bebee",
   "metadata": {},
   "source": [
    "## Train Phase 1 (choose one)"
   ]
  },
  {
   "cell_type": "code",
   "execution_count": 7,
   "id": "7eca72dc",
   "metadata": {},
   "outputs": [
    {
     "name": "stderr",
     "output_type": "stream",
     "text": [
      "\u001b[34m\u001b[1mwandb\u001b[0m: Currently logged in as: \u001b[33mmattia-scardecchia\u001b[0m to \u001b[32mhttps://api.wandb.ai\u001b[0m. Use \u001b[1m`wandb login --relogin`\u001b[0m to force relogin\n"
     ]
    },
    {
     "data": {
      "text/html": [],
      "text/plain": [
       "<IPython.core.display.HTML object>"
      ]
     },
     "metadata": {},
     "output_type": "display_data"
    },
    {
     "data": {
      "text/html": [
       "Tracking run with wandb version 0.22.0"
      ],
      "text/plain": [
       "<IPython.core.display.HTML object>"
      ]
     },
     "metadata": {},
     "output_type": "display_data"
    },
    {
     "data": {
      "text/html": [
       "Run data is saved locally in <code>logs/wandb/run-20250923_224810-hbxbt4n3</code>"
      ],
      "text/plain": [
       "<IPython.core.display.HTML object>"
      ]
     },
     "metadata": {},
     "output_type": "display_data"
    },
    {
     "data": {
      "text/html": [
       "Syncing run <strong><a href='https://wandb.ai/mattia-scardecchia/repr-world/runs/hbxbt4n3' target=\"_blank\">jolly-shape-20</a></strong> to <a href='https://wandb.ai/mattia-scardecchia/repr-world' target=\"_blank\">Weights & Biases</a> (<a href='https://wandb.me/developer-guide' target=\"_blank\">docs</a>)<br>"
      ],
      "text/plain": [
       "<IPython.core.display.HTML object>"
      ]
     },
     "metadata": {},
     "output_type": "display_data"
    },
    {
     "data": {
      "text/html": [
       " View project at <a href='https://wandb.ai/mattia-scardecchia/repr-world' target=\"_blank\">https://wandb.ai/mattia-scardecchia/repr-world</a>"
      ],
      "text/plain": [
       "<IPython.core.display.HTML object>"
      ]
     },
     "metadata": {},
     "output_type": "display_data"
    },
    {
     "data": {
      "text/html": [
       " View run at <a href='https://wandb.ai/mattia-scardecchia/repr-world/runs/hbxbt4n3' target=\"_blank\">https://wandb.ai/mattia-scardecchia/repr-world/runs/hbxbt4n3</a>"
      ],
      "text/plain": [
       "<IPython.core.display.HTML object>"
      ]
     },
     "metadata": {},
     "output_type": "display_data"
    },
    {
     "name": "stdout",
     "output_type": "stream",
     "text": [
      "Training VAE. Epochs: 10; Batch size: 256; Steps per epoch: 235.\n"
     ]
    },
    {
     "name": "stderr",
     "output_type": "stream",
     "text": [
      "/Users/mat/anaconda3/envs/toy/lib/python3.12/site-packages/torch/utils/data/dataloader.py:684: UserWarning: 'pin_memory' argument is set as true but not supported on MPS now, then device pinned memory won't be used.\n",
      "  warnings.warn(warn_msg)\n"
     ]
    },
    {
     "name": "stdout",
     "output_type": "stream",
     "text": [
      "[VAE] Epoch 1: train_loss=0.9889, train_recon=0.9869, train_kl=1.9792\n",
      "[VAE-VAL] Epoch 1: val_loss=0.9837, val_recon=0.9816, val_kl=2.0385\n",
      "[VAE] Epoch 2: train_loss=0.9828, train_recon=0.9807, train_kl=2.1483\n",
      "[VAE-VAL] Epoch 2: val_loss=0.9829, val_recon=0.9808, val_kl=2.0965\n",
      "[VAE] Epoch 3: train_loss=0.9817, train_recon=0.9795, train_kl=2.2630\n",
      "[VAE-VAL] Epoch 3: val_loss=0.9823, val_recon=0.9801, val_kl=2.2315\n",
      "[VAE] Epoch 4: train_loss=0.9810, train_recon=0.9786, train_kl=2.3724\n",
      "[VAE-VAL] Epoch 4: val_loss=0.9818, val_recon=0.9796, val_kl=2.2471\n",
      "[VAE] Epoch 5: train_loss=0.9806, train_recon=0.9781, train_kl=2.4845\n",
      "[VAE-VAL] Epoch 5: val_loss=0.9814, val_recon=0.9791, val_kl=2.3371\n",
      "[VAE] Epoch 6: train_loss=0.9802, train_recon=0.9776, train_kl=2.5688\n",
      "[VAE-VAL] Epoch 6: val_loss=0.9816, val_recon=0.9791, val_kl=2.5205\n",
      "[VAE] Epoch 7: train_loss=0.9799, train_recon=0.9773, train_kl=2.6140\n",
      "[VAE-VAL] Epoch 7: val_loss=0.9813, val_recon=0.9788, val_kl=2.4781\n",
      "[VAE] Epoch 8: train_loss=0.9796, train_recon=0.9769, train_kl=2.6827\n",
      "[VAE-VAL] Epoch 8: val_loss=0.9812, val_recon=0.9786, val_kl=2.6294\n",
      "[VAE] Epoch 9: train_loss=0.9793, train_recon=0.9766, train_kl=2.7435\n",
      "[VAE-VAL] Epoch 9: val_loss=0.9809, val_recon=0.9783, val_kl=2.6421\n",
      "[VAE] Epoch 10: train_loss=0.9791, train_recon=0.9763, train_kl=2.7838\n",
      "[VAE-VAL] Epoch 10: val_loss=0.9813, val_recon=0.9784, val_kl=2.8983\n",
      "Saved ckpts/vae.pt\n",
      "VAE training metrics: {'final_vae_train_train_loss': 0.9790996405601502, 'final_vae_train_train_recon': 0.9763158862113953, 'final_vae_train_train_kl': 2.7837525571187336, 'final_vae_val_val_loss': 0.9813002886772155, 'final_vae_val_val_recon': 0.9784019991556804, 'final_vae_val_val_kl': 2.8982876478830972}\n"
     ]
    }
   ],
   "source": [
    "from scripts.train import train_phase1_contrastive, train_phase1_vae, _maybe_init_wandb\n",
    "\n",
    "device = 'mps'\n",
    "z_space = 'vae'\n",
    "wb = _maybe_init_wandb(cfg)\n",
    "\n",
    "assert z_space == 'vae'\n",
    "enc_path, vae_metrics = train_phase1_vae(cfg, device, wb)\n",
    "print(\"VAE training metrics:\", vae_metrics)"
   ]
  },
  {
   "cell_type": "markdown",
   "id": "3ae2ba3f",
   "metadata": {},
   "source": [
    "## Train Phase 2 dynamics (on selected latent space)"
   ]
  },
  {
   "cell_type": "code",
   "execution_count": 8,
   "id": "2070fc26",
   "metadata": {},
   "outputs": [
    {
     "name": "stdout",
     "output_type": "stream",
     "text": [
      "[DYN-VAE] Epoch 1: train_mse=0.5386\n",
      "[DYN-VAE-VAL] Epoch 1: val_mse=0.4423\n",
      "[DYN-VAE] Epoch 2: train_mse=0.5174\n",
      "[DYN-VAE-VAL] Epoch 2: val_mse=0.4404\n",
      "[DYN-VAE] Epoch 3: train_mse=0.5161\n",
      "[DYN-VAE-VAL] Epoch 3: val_mse=0.4398\n",
      "[DYN-VAE] Epoch 4: train_mse=0.5142\n",
      "[DYN-VAE-VAL] Epoch 4: val_mse=0.4347\n",
      "[DYN-VAE] Epoch 5: train_mse=0.5129\n",
      "[DYN-VAE-VAL] Epoch 5: val_mse=0.4400\n",
      "[DYN-VAE] Epoch 6: train_mse=0.5124\n",
      "[DYN-VAE-VAL] Epoch 6: val_mse=0.4404\n",
      "[DYN-VAE] Epoch 7: train_mse=0.5122\n",
      "[DYN-VAE-VAL] Epoch 7: val_mse=0.4465\n",
      "[DYN-VAE] Epoch 8: train_mse=0.5121\n",
      "[DYN-VAE-VAL] Epoch 8: val_mse=0.4306\n",
      "[DYN-VAE] Epoch 9: train_mse=0.5114\n",
      "[DYN-VAE-VAL] Epoch 9: val_mse=0.4362\n",
      "[DYN-VAE] Epoch 10: train_mse=0.5109\n",
      "[DYN-VAE-VAL] Epoch 10: val_mse=0.4333\n",
      "Saved ckpts/dyn_vae.pt\n",
      "Dynamics training metrics: {'final_dyn-vae_train_train_mse': 0.5108871298631033, 'final_dyn-vae_val_val_mse': 0.43334845765431723}\n"
     ]
    },
    {
     "data": {
      "text/plain": [
       "'ckpts/dyn_vae.pt'"
      ]
     },
     "execution_count": 8,
     "metadata": {},
     "output_type": "execute_result"
    }
   ],
   "source": [
    "from scripts.train import train_phase2_dynamics\n",
    "\n",
    "dyn_path, dynamics_metrics = train_phase2_dynamics(cfg, device, z_space=z_space, wb=wb)\n",
    "print(\"Dynamics training metrics:\", dynamics_metrics)\n",
    "dyn_path"
   ]
  },
  {
   "cell_type": "markdown",
   "id": "08fbdf67",
   "metadata": {},
   "source": [
    "## Train probe on frozen latents (z → R^2)"
   ]
  },
  {
   "cell_type": "code",
   "execution_count": 9,
   "id": "c367b200",
   "metadata": {},
   "outputs": [
    {
     "name": "stdout",
     "output_type": "stream",
     "text": [
      "[PROBE-VAE] Epoch 1: train_mse=0.4972\n",
      "[PROBE-VAE-VAL] Epoch 1: val_mse=0.3440\n",
      "[PROBE-VAE] Epoch 2: train_mse=0.3759\n",
      "[PROBE-VAE-VAL] Epoch 2: val_mse=0.3537\n",
      "[PROBE-VAE] Epoch 3: train_mse=0.3691\n",
      "[PROBE-VAE-VAL] Epoch 3: val_mse=0.3418\n",
      "[PROBE-VAE] Epoch 4: train_mse=0.3657\n",
      "[PROBE-VAE-VAL] Epoch 4: val_mse=0.3570\n",
      "[PROBE-VAE] Epoch 5: train_mse=0.3640\n",
      "[PROBE-VAE-VAL] Epoch 5: val_mse=0.3416\n",
      "[PROBE-VAE] Epoch 6: train_mse=0.3629\n",
      "[PROBE-VAE-VAL] Epoch 6: val_mse=0.3583\n",
      "[PROBE-VAE] Epoch 7: train_mse=0.3622\n",
      "[PROBE-VAE-VAL] Epoch 7: val_mse=0.3512\n",
      "[PROBE-VAE] Epoch 8: train_mse=0.3619\n",
      "[PROBE-VAE-VAL] Epoch 8: val_mse=0.3500\n",
      "[PROBE-VAE] Epoch 9: train_mse=0.3616\n",
      "[PROBE-VAE-VAL] Epoch 9: val_mse=0.3464\n",
      "[PROBE-VAE] Epoch 10: train_mse=0.3611\n",
      "[PROBE-VAE-VAL] Epoch 10: val_mse=0.3502\n",
      "Saved ckpts/probe_vae.pt\n",
      "Probe training metrics: {'final_probe-vae_train_train_mse': 0.3611258747895559, 'final_probe-vae_val_val_mse': 0.3502463915348053}\n"
     ]
    },
    {
     "data": {
      "text/plain": [
       "'ckpts/probe_vae.pt'"
      ]
     },
     "execution_count": 9,
     "metadata": {},
     "output_type": "execute_result"
    }
   ],
   "source": [
    "from scripts.train import train_probes\n",
    "probe_path, probe_metrics = train_probes(cfg, device, z_space=z_space, wb=wb)\n",
    "print(\"Probe training metrics:\", probe_metrics)\n",
    "probe_path"
   ]
  },
  {
   "cell_type": "markdown",
   "id": "3bc0a219",
   "metadata": {},
   "source": [
    "## Evaluate end-to-end next-signal MSE"
   ]
  },
  {
   "cell_type": "code",
   "execution_count": 10,
   "id": "5ee989c9",
   "metadata": {},
   "outputs": [
    {
     "name": "stdout",
     "output_type": "stream",
     "text": [
      "[EVAL-vae] next-signal MSE = 0.537184\n",
      "Evaluation metrics: {'final_eval_loss': 0.5371844995816548}\n"
     ]
    }
   ],
   "source": [
    "from scripts.eval import evaluate\n",
    "eval_metrics = evaluate(cfg, z_space, device)\n",
    "print(\"Evaluation metrics:\", eval_metrics)"
   ]
  }
 ],
 "metadata": {
  "kernelspec": {
   "display_name": "toy",
   "language": "python",
   "name": "python3"
  },
  "language_info": {
   "codemirror_mode": {
    "name": "ipython",
    "version": 3
   },
   "file_extension": ".py",
   "mimetype": "text/x-python",
   "name": "python",
   "nbconvert_exporter": "python",
   "pygments_lexer": "ipython3",
   "version": "3.12.11"
  }
 },
 "nbformat": 4,
 "nbformat_minor": 5
}
